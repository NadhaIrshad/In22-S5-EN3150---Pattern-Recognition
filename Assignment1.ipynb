{
  "nbformat": 4,
  "nbformat_minor": 0,
  "metadata": {
    "colab": {
      "provenance": [],
      "authorship_tag": "ABX9TyPMJqxyIGIdLhi5++hbMtkN",
      "include_colab_link": true
    },
    "kernelspec": {
      "name": "python3",
      "display_name": "Python 3"
    },
    "language_info": {
      "name": "python"
    }
  },
  "cells": [
    {
      "cell_type": "markdown",
      "metadata": {
        "id": "view-in-github",
        "colab_type": "text"
      },
      "source": [
        "<a href=\"https://colab.research.google.com/github/NadhaIrshad/In22-S5-EN3150---Pattern-Recognition/blob/main/Assignment1.ipynb\" target=\"_parent\"><img src=\"https://colab.research.google.com/assets/colab-badge.svg\" alt=\"Open In Colab\"/></a>"
      ]
    },
    {
      "cell_type": "markdown",
      "source": [
        "# EN3150 Assignment 01"
      ],
      "metadata": {
        "id": "HreHeHCTrVOq"
      }
    },
    {
      "cell_type": "markdown",
      "source": [
        "###  Learning from data and related challenges and linear models for regression"
      ],
      "metadata": {
        "id": "Zmt0q955rXv2"
      }
    },
    {
      "cell_type": "markdown",
      "source": [
        "#  1. Linear regression impact on outliers"
      ],
      "metadata": {
        "id": "ontsDXKLrl2c"
      }
    },
    {
      "cell_type": "code",
      "source": [],
      "metadata": {
        "id": "YqLBatvSr-Tl"
      },
      "execution_count": null,
      "outputs": []
    },
    {
      "cell_type": "markdown",
      "source": [
        "# 2. Loss Function"
      ],
      "metadata": {
        "id": "8KSRDB3eruPt"
      }
    },
    {
      "cell_type": "code",
      "execution_count": null,
      "metadata": {
        "id": "40hfpStSrHRq"
      },
      "outputs": [],
      "source": []
    },
    {
      "cell_type": "markdown",
      "source": [
        "# 3. Data PreProcessing"
      ],
      "metadata": {
        "id": "wHepDEazrx6W"
      }
    },
    {
      "cell_type": "code",
      "source": [],
      "metadata": {
        "id": "sXtGrY0LsCiy"
      },
      "execution_count": null,
      "outputs": []
    }
  ]
}